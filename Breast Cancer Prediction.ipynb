{
 "cells": [
  {
   "cell_type": "code",
   "execution_count": 19,
   "metadata": {},
   "outputs": [],
   "source": [
    "# Wisconsin (Diagnostic) Data Set is used to predict Breast Cancer using basic Artificial Neural Network.\n",
    "# For this, I have used Keras which is a high-level Neural Networks API built on top of low level neural networks APIs like Tensorflow and Theano.\n",
    "# As it is high-level, many things are already taken care of therefore it is easy to work with and a great tool to start with"
   ]
  },
  {
   "cell_type": "code",
   "execution_count": 20,
   "metadata": {},
   "outputs": [],
   "source": [
    "# Importing libraries\n",
    "import pandas as pd\n",
    "import numpy as np\n",
    "import matplotlib.pyplot as plt\n",
    "import seaborn as sns\n",
    "import keras\n",
    "from keras.models import Sequential\n",
    "from keras.layers import Dense, Dropout"
   ]
  },
  {
   "cell_type": "code",
   "execution_count": 21,
   "metadata": {},
   "outputs": [],
   "source": [
    "# Importing data\n",
    "data = pd.read_csv('./data.csv')"
   ]
  },
  {
   "cell_type": "code",
   "execution_count": 22,
   "metadata": {},
   "outputs": [],
   "source": [
    "del data['Unnamed: 32']"
   ]
  },
  {
   "cell_type": "code",
   "execution_count": 23,
   "metadata": {},
   "outputs": [],
   "source": [
    "X = data.iloc[:, 2:].values\n",
    "y = data.iloc[:, 1].values\n",
    "\n",
    "# Encoding categorical data\n",
    "from sklearn.preprocessing import LabelEncoder\n",
    "labelencoder_X_1 = LabelEncoder()\n",
    "y = labelencoder_X_1.fit_transform(y)\n",
    "\n",
    "# Splitting the dataset into the Training set and Test set\n",
    "from sklearn.model_selection import train_test_split\n",
    "X_train, X_test, y_train, y_test = train_test_split(X, y, test_size = 0.3, random_state = 40)\n",
    "\n",
    "#Feature Scaling\n",
    "from sklearn.preprocessing import StandardScaler\n",
    "sc = StandardScaler()\n",
    "X_train = sc.fit_transform(X_train)\n",
    "X_test = sc.transform(X_test)"
   ]
  },
  {
   "cell_type": "code",
   "execution_count": 24,
   "metadata": {},
   "outputs": [],
   "source": [
    "# Initialising the ANN\n",
    "classifier = Sequential()"
   ]
  },
  {
   "cell_type": "code",
   "execution_count": 25,
   "metadata": {},
   "outputs": [
    {
     "name": "stderr",
     "output_type": "stream",
     "text": [
      "C:\\Users\\fayas\\Anaconda3\\envs\\tf\\lib\\site-packages\\ipykernel_launcher.py:2: UserWarning: Update your `Dense` call to the Keras 2 API: `Dense(activation=\"tanh\", input_dim=30, units=16, kernel_initializer=\"glorot_uniform\")`\n",
      "  \n",
      "C:\\Users\\fayas\\Anaconda3\\envs\\tf\\lib\\site-packages\\ipykernel_launcher.py:4: UserWarning: Update your `Dropout` call to the Keras 2 API: `Dropout(rate=0.3)`\n",
      "  after removing the cwd from sys.path.\n"
     ]
    }
   ],
   "source": [
    "# Adding the input layer and the first hidden layer\n",
    "classifier.add(Dense(output_dim=16, init='glorot_uniform', activation='tanh', input_dim=30))\n",
    "# Adding dropout to prevent overfitting\n",
    "classifier.add(Dropout(p=0.3))"
   ]
  },
  {
   "cell_type": "code",
   "execution_count": 26,
   "metadata": {},
   "outputs": [
    {
     "name": "stderr",
     "output_type": "stream",
     "text": [
      "C:\\Users\\fayas\\Anaconda3\\envs\\tf\\lib\\site-packages\\ipykernel_launcher.py:2: UserWarning: Update your `Dense` call to the Keras 2 API: `Dense(activation=\"tanh\", units=16, kernel_initializer=\"glorot_uniform\")`\n",
      "  \n",
      "C:\\Users\\fayas\\Anaconda3\\envs\\tf\\lib\\site-packages\\ipykernel_launcher.py:4: UserWarning: Update your `Dropout` call to the Keras 2 API: `Dropout(rate=0.3)`\n",
      "  after removing the cwd from sys.path.\n"
     ]
    }
   ],
   "source": [
    "# Adding the second hidden layer\n",
    "classifier.add(Dense(output_dim=16, init='glorot_uniform', activation='tanh'))\n",
    "# Adding dropout to prevent overfitting\n",
    "classifier.add(Dropout(p=0.3))"
   ]
  },
  {
   "cell_type": "code",
   "execution_count": 27,
   "metadata": {},
   "outputs": [
    {
     "name": "stderr",
     "output_type": "stream",
     "text": [
      "C:\\Users\\fayas\\Anaconda3\\envs\\tf\\lib\\site-packages\\ipykernel_launcher.py:2: UserWarning: Update your `Dense` call to the Keras 2 API: `Dense(activation=\"sigmoid\", units=1, kernel_initializer=\"glorot_uniform\")`\n",
      "  \n"
     ]
    }
   ],
   "source": [
    "# Adding the output layer\n",
    "classifier.add(Dense(output_dim=1, init='glorot_uniform', activation='sigmoid'))"
   ]
  },
  {
   "cell_type": "markdown",
   "metadata": {},
   "source": [
    "output_dim is 1 as we want only 1 output from the final layer.\n",
    "\n",
    "Sigmoid function is used when dealing with classfication problems with 2 types of results.(Softmax function is used for 3 or more classification results)"
   ]
  },
  {
   "cell_type": "code",
   "execution_count": 28,
   "metadata": {},
   "outputs": [],
   "source": [
    "# Compiling the ANN\n",
    "classifier.compile(optimizer='adam', loss='binary_crossentropy', metrics=['accuracy'])"
   ]
  },
  {
   "cell_type": "code",
   "execution_count": 29,
   "metadata": {},
   "outputs": [
    {
     "name": "stderr",
     "output_type": "stream",
     "text": [
      "C:\\Users\\fayas\\Anaconda3\\envs\\tf\\lib\\site-packages\\ipykernel_launcher.py:2: UserWarning: The `nb_epoch` argument in `fit` has been renamed `epochs`.\n",
      "  \n"
     ]
    },
    {
     "name": "stdout",
     "output_type": "stream",
     "text": [
      "Epoch 1/150\n",
      "398/398 [==============================] - 0s 460us/step - loss: 0.8829 - accuracy: 0.3668\n",
      "Epoch 2/150\n",
      "398/398 [==============================] - 0s 18us/step - loss: 0.7927 - accuracy: 0.4472\n",
      "Epoch 3/150\n",
      "398/398 [==============================] - 0s 23us/step - loss: 0.7143 - accuracy: 0.5226\n",
      "Epoch 4/150\n",
      "398/398 [==============================] - 0s 20us/step - loss: 0.6275 - accuracy: 0.6533\n",
      "Epoch 5/150\n",
      "398/398 [==============================] - 0s 25us/step - loss: 0.5593 - accuracy: 0.7085\n",
      "Epoch 6/150\n",
      "398/398 [==============================] - 0s 23us/step - loss: 0.4905 - accuracy: 0.7864\n",
      "Epoch 7/150\n",
      "398/398 [==============================] - 0s 23us/step - loss: 0.4377 - accuracy: 0.8241\n",
      "Epoch 8/150\n",
      "398/398 [==============================] - 0s 28us/step - loss: 0.4200 - accuracy: 0.8392\n",
      "Epoch 9/150\n",
      "398/398 [==============================] - 0s 33us/step - loss: 0.4091 - accuracy: 0.8417\n",
      "Epoch 10/150\n",
      "398/398 [==============================] - 0s 23us/step - loss: 0.3408 - accuracy: 0.8869\n",
      "Epoch 11/150\n",
      "398/398 [==============================] - 0s 23us/step - loss: 0.3314 - accuracy: 0.8819\n",
      "Epoch 12/150\n",
      "398/398 [==============================] - 0s 20us/step - loss: 0.3245 - accuracy: 0.8744\n",
      "Epoch 13/150\n",
      "398/398 [==============================] - 0s 23us/step - loss: 0.3064 - accuracy: 0.8995\n",
      "Epoch 14/150\n",
      "398/398 [==============================] - 0s 23us/step - loss: 0.2900 - accuracy: 0.8945\n",
      "Epoch 15/150\n",
      "398/398 [==============================] - 0s 18us/step - loss: 0.2721 - accuracy: 0.8945\n",
      "Epoch 16/150\n",
      "398/398 [==============================] - 0s 23us/step - loss: 0.2401 - accuracy: 0.9271\n",
      "Epoch 17/150\n",
      "398/398 [==============================] - 0s 23us/step - loss: 0.2622 - accuracy: 0.9146\n",
      "Epoch 18/150\n",
      "398/398 [==============================] - 0s 23us/step - loss: 0.2341 - accuracy: 0.9221\n",
      "Epoch 19/150\n",
      "398/398 [==============================] - 0s 25us/step - loss: 0.2323 - accuracy: 0.9196\n",
      "Epoch 20/150\n",
      "398/398 [==============================] - 0s 22us/step - loss: 0.2493 - accuracy: 0.9171\n",
      "Epoch 21/150\n",
      "398/398 [==============================] - 0s 23us/step - loss: 0.2011 - accuracy: 0.9347\n",
      "Epoch 22/150\n",
      "398/398 [==============================] - 0s 23us/step - loss: 0.2047 - accuracy: 0.9372\n",
      "Epoch 23/150\n",
      "398/398 [==============================] - 0s 25us/step - loss: 0.2023 - accuracy: 0.9296\n",
      "Epoch 24/150\n",
      "398/398 [==============================] - 0s 20us/step - loss: 0.1693 - accuracy: 0.9548\n",
      "Epoch 25/150\n",
      "398/398 [==============================] - 0s 23us/step - loss: 0.1853 - accuracy: 0.9472\n",
      "Epoch 26/150\n",
      "398/398 [==============================] - 0s 25us/step - loss: 0.1712 - accuracy: 0.9472\n",
      "Epoch 27/150\n",
      "398/398 [==============================] - 0s 28us/step - loss: 0.1742 - accuracy: 0.9447\n",
      "Epoch 28/150\n",
      "398/398 [==============================] - 0s 20us/step - loss: 0.1828 - accuracy: 0.9372\n",
      "Epoch 29/150\n",
      "398/398 [==============================] - 0s 25us/step - loss: 0.1629 - accuracy: 0.9447\n",
      "Epoch 30/150\n",
      "398/398 [==============================] - 0s 25us/step - loss: 0.1672 - accuracy: 0.9422\n",
      "Epoch 31/150\n",
      "398/398 [==============================] - 0s 20us/step - loss: 0.1511 - accuracy: 0.9523\n",
      "Epoch 32/150\n",
      "398/398 [==============================] - 0s 25us/step - loss: 0.1460 - accuracy: 0.9523\n",
      "Epoch 33/150\n",
      "398/398 [==============================] - 0s 20us/step - loss: 0.1549 - accuracy: 0.9447\n",
      "Epoch 34/150\n",
      "398/398 [==============================] - 0s 23us/step - loss: 0.1387 - accuracy: 0.9548\n",
      "Epoch 35/150\n",
      "398/398 [==============================] - 0s 23us/step - loss: 0.1507 - accuracy: 0.9573\n",
      "Epoch 36/150\n",
      "398/398 [==============================] - 0s 20us/step - loss: 0.1351 - accuracy: 0.9623\n",
      "Epoch 37/150\n",
      "398/398 [==============================] - 0s 25us/step - loss: 0.1367 - accuracy: 0.9648\n",
      "Epoch 38/150\n",
      "398/398 [==============================] - 0s 25us/step - loss: 0.1338 - accuracy: 0.9598\n",
      "Epoch 39/150\n",
      "398/398 [==============================] - 0s 23us/step - loss: 0.1291 - accuracy: 0.9573\n",
      "Epoch 40/150\n",
      "398/398 [==============================] - 0s 20us/step - loss: 0.1129 - accuracy: 0.9698\n",
      "Epoch 41/150\n",
      "398/398 [==============================] - 0s 25us/step - loss: 0.1294 - accuracy: 0.9548\n",
      "Epoch 42/150\n",
      "398/398 [==============================] - 0s 23us/step - loss: 0.1144 - accuracy: 0.9598\n",
      "Epoch 43/150\n",
      "398/398 [==============================] - 0s 23us/step - loss: 0.1108 - accuracy: 0.9648\n",
      "Epoch 44/150\n",
      "398/398 [==============================] - 0s 23us/step - loss: 0.1162 - accuracy: 0.9573\n",
      "Epoch 45/150\n",
      "398/398 [==============================] - 0s 23us/step - loss: 0.0962 - accuracy: 0.9724\n",
      "Epoch 46/150\n",
      "398/398 [==============================] - 0s 25us/step - loss: 0.1173 - accuracy: 0.9548\n",
      "Epoch 47/150\n",
      "398/398 [==============================] - 0s 23us/step - loss: 0.1047 - accuracy: 0.9698\n",
      "Epoch 48/150\n",
      "398/398 [==============================] - 0s 25us/step - loss: 0.0991 - accuracy: 0.9673\n",
      "Epoch 49/150\n",
      "398/398 [==============================] - 0s 25us/step - loss: 0.1064 - accuracy: 0.9623\n",
      "Epoch 50/150\n",
      "398/398 [==============================] - 0s 28us/step - loss: 0.1087 - accuracy: 0.9648\n",
      "Epoch 51/150\n",
      "398/398 [==============================] - 0s 30us/step - loss: 0.1044 - accuracy: 0.9749\n",
      "Epoch 52/150\n",
      "398/398 [==============================] - 0s 25us/step - loss: 0.1011 - accuracy: 0.9623\n",
      "Epoch 53/150\n",
      "398/398 [==============================] - 0s 25us/step - loss: 0.1044 - accuracy: 0.9623\n",
      "Epoch 54/150\n",
      "398/398 [==============================] - 0s 20us/step - loss: 0.0933 - accuracy: 0.9698\n",
      "Epoch 55/150\n",
      "398/398 [==============================] - 0s 25us/step - loss: 0.0816 - accuracy: 0.9774\n",
      "Epoch 56/150\n",
      "398/398 [==============================] - 0s 25us/step - loss: 0.0905 - accuracy: 0.9698\n",
      "Epoch 57/150\n",
      "398/398 [==============================] - 0s 25us/step - loss: 0.0968 - accuracy: 0.9724\n",
      "Epoch 58/150\n",
      "398/398 [==============================] - 0s 25us/step - loss: 0.1014 - accuracy: 0.9623\n",
      "Epoch 59/150\n",
      "398/398 [==============================] - 0s 20us/step - loss: 0.0951 - accuracy: 0.9749\n",
      "Epoch 60/150\n",
      "398/398 [==============================] - 0s 17us/step - loss: 0.0904 - accuracy: 0.9774\n",
      "Epoch 61/150\n",
      "398/398 [==============================] - 0s 23us/step - loss: 0.0951 - accuracy: 0.9673\n",
      "Epoch 62/150\n",
      "398/398 [==============================] - 0s 20us/step - loss: 0.0932 - accuracy: 0.9749\n",
      "Epoch 63/150\n",
      "398/398 [==============================] - 0s 18us/step - loss: 0.0808 - accuracy: 0.9774\n",
      "Epoch 64/150\n",
      "398/398 [==============================] - 0s 18us/step - loss: 0.0944 - accuracy: 0.9724\n",
      "Epoch 65/150\n",
      "398/398 [==============================] - 0s 20us/step - loss: 0.0854 - accuracy: 0.9698\n",
      "Epoch 66/150\n",
      "398/398 [==============================] - 0s 20us/step - loss: 0.0744 - accuracy: 0.9824\n",
      "Epoch 67/150\n",
      "398/398 [==============================] - 0s 18us/step - loss: 0.0857 - accuracy: 0.9724\n",
      "Epoch 68/150\n",
      "398/398 [==============================] - 0s 23us/step - loss: 0.0870 - accuracy: 0.9673\n",
      "Epoch 69/150\n",
      "398/398 [==============================] - 0s 20us/step - loss: 0.0887 - accuracy: 0.9698\n",
      "Epoch 70/150\n",
      "398/398 [==============================] - 0s 18us/step - loss: 0.0839 - accuracy: 0.9749\n",
      "Epoch 71/150\n",
      "398/398 [==============================] - 0s 20us/step - loss: 0.0748 - accuracy: 0.9774\n",
      "Epoch 72/150\n",
      "398/398 [==============================] - 0s 18us/step - loss: 0.0739 - accuracy: 0.9799\n",
      "Epoch 73/150\n",
      "398/398 [==============================] - 0s 23us/step - loss: 0.0752 - accuracy: 0.9774\n",
      "Epoch 74/150\n",
      "398/398 [==============================] - 0s 18us/step - loss: 0.0804 - accuracy: 0.9799\n",
      "Epoch 75/150\n",
      "398/398 [==============================] - 0s 20us/step - loss: 0.0780 - accuracy: 0.9799\n",
      "Epoch 76/150\n",
      "398/398 [==============================] - 0s 18us/step - loss: 0.0734 - accuracy: 0.9799\n",
      "Epoch 77/150\n",
      "398/398 [==============================] - 0s 20us/step - loss: 0.0729 - accuracy: 0.9724\n",
      "Epoch 78/150\n",
      "398/398 [==============================] - 0s 18us/step - loss: 0.0874 - accuracy: 0.9673\n",
      "Epoch 79/150\n",
      "398/398 [==============================] - 0s 18us/step - loss: 0.0665 - accuracy: 0.9799\n",
      "Epoch 80/150\n"
     ]
    },
    {
     "name": "stdout",
     "output_type": "stream",
     "text": [
      "398/398 [==============================] - 0s 23us/step - loss: 0.0687 - accuracy: 0.9774\n",
      "Epoch 81/150\n",
      "398/398 [==============================] - 0s 20us/step - loss: 0.0746 - accuracy: 0.9824\n",
      "Epoch 82/150\n",
      "398/398 [==============================] - 0s 20us/step - loss: 0.0781 - accuracy: 0.9749\n",
      "Epoch 83/150\n",
      "398/398 [==============================] - 0s 20us/step - loss: 0.0774 - accuracy: 0.9849\n",
      "Epoch 84/150\n",
      "398/398 [==============================] - 0s 20us/step - loss: 0.0757 - accuracy: 0.9749\n",
      "Epoch 85/150\n",
      "398/398 [==============================] - 0s 28us/step - loss: 0.0825 - accuracy: 0.9749\n",
      "Epoch 86/150\n",
      "398/398 [==============================] - 0s 23us/step - loss: 0.0718 - accuracy: 0.9774\n",
      "Epoch 87/150\n",
      "398/398 [==============================] - 0s 18us/step - loss: 0.0705 - accuracy: 0.9824\n",
      "Epoch 88/150\n",
      "398/398 [==============================] - 0s 23us/step - loss: 0.0781 - accuracy: 0.9749\n",
      "Epoch 89/150\n",
      "398/398 [==============================] - 0s 18us/step - loss: 0.0751 - accuracy: 0.9774\n",
      "Epoch 90/150\n",
      "398/398 [==============================] - 0s 23us/step - loss: 0.0777 - accuracy: 0.9749\n",
      "Epoch 91/150\n",
      "398/398 [==============================] - 0s 23us/step - loss: 0.0689 - accuracy: 0.9849\n",
      "Epoch 92/150\n",
      "398/398 [==============================] - 0s 20us/step - loss: 0.0584 - accuracy: 0.9824\n",
      "Epoch 93/150\n",
      "398/398 [==============================] - 0s 23us/step - loss: 0.0712 - accuracy: 0.9774\n",
      "Epoch 94/150\n",
      "398/398 [==============================] - 0s 18us/step - loss: 0.0659 - accuracy: 0.9799\n",
      "Epoch 95/150\n",
      "398/398 [==============================] - 0s 20us/step - loss: 0.0729 - accuracy: 0.9698\n",
      "Epoch 96/150\n",
      "398/398 [==============================] - 0s 20us/step - loss: 0.0704 - accuracy: 0.9774\n",
      "Epoch 97/150\n",
      "398/398 [==============================] - 0s 18us/step - loss: 0.0647 - accuracy: 0.9774\n",
      "Epoch 98/150\n",
      "398/398 [==============================] - 0s 20us/step - loss: 0.0659 - accuracy: 0.9799\n",
      "Epoch 99/150\n",
      "398/398 [==============================] - 0s 17us/step - loss: 0.0692 - accuracy: 0.9799\n",
      "Epoch 100/150\n",
      "398/398 [==============================] - 0s 20us/step - loss: 0.0633 - accuracy: 0.9899\n",
      "Epoch 101/150\n",
      "398/398 [==============================] - 0s 18us/step - loss: 0.0659 - accuracy: 0.9799\n",
      "Epoch 102/150\n",
      "398/398 [==============================] - 0s 20us/step - loss: 0.0706 - accuracy: 0.9774\n",
      "Epoch 103/150\n",
      "398/398 [==============================] - 0s 18us/step - loss: 0.0751 - accuracy: 0.9774\n",
      "Epoch 104/150\n",
      "398/398 [==============================] - 0s 20us/step - loss: 0.0650 - accuracy: 0.9799\n",
      "Epoch 105/150\n",
      "398/398 [==============================] - 0s 20us/step - loss: 0.0701 - accuracy: 0.9849\n",
      "Epoch 106/150\n",
      "398/398 [==============================] - 0s 18us/step - loss: 0.0661 - accuracy: 0.9824\n",
      "Epoch 107/150\n",
      "398/398 [==============================] - 0s 20us/step - loss: 0.0704 - accuracy: 0.9774\n",
      "Epoch 108/150\n",
      "398/398 [==============================] - 0s 18us/step - loss: 0.0731 - accuracy: 0.9799\n",
      "Epoch 109/150\n",
      "398/398 [==============================] - 0s 20us/step - loss: 0.0621 - accuracy: 0.9774\n",
      "Epoch 110/150\n",
      "398/398 [==============================] - 0s 15us/step - loss: 0.0554 - accuracy: 0.9849\n",
      "Epoch 111/150\n",
      "398/398 [==============================] - 0s 20us/step - loss: 0.0698 - accuracy: 0.9749\n",
      "Epoch 112/150\n",
      "398/398 [==============================] - 0s 18us/step - loss: 0.0728 - accuracy: 0.9774\n",
      "Epoch 113/150\n",
      "398/398 [==============================] - 0s 20us/step - loss: 0.0529 - accuracy: 0.9849\n",
      "Epoch 114/150\n",
      "398/398 [==============================] - 0s 20us/step - loss: 0.0689 - accuracy: 0.9824\n",
      "Epoch 115/150\n",
      "398/398 [==============================] - 0s 20us/step - loss: 0.0565 - accuracy: 0.9874\n",
      "Epoch 116/150\n",
      "398/398 [==============================] - 0s 20us/step - loss: 0.0631 - accuracy: 0.9824\n",
      "Epoch 117/150\n",
      "398/398 [==============================] - 0s 18us/step - loss: 0.0625 - accuracy: 0.9774\n",
      "Epoch 118/150\n",
      "398/398 [==============================] - 0s 23us/step - loss: 0.0607 - accuracy: 0.9799\n",
      "Epoch 119/150\n",
      "398/398 [==============================] - 0s 18us/step - loss: 0.0564 - accuracy: 0.9824\n",
      "Epoch 120/150\n",
      "398/398 [==============================] - 0s 23us/step - loss: 0.0699 - accuracy: 0.9774\n",
      "Epoch 121/150\n",
      "398/398 [==============================] - 0s 23us/step - loss: 0.0641 - accuracy: 0.9774\n",
      "Epoch 122/150\n",
      "398/398 [==============================] - 0s 20us/step - loss: 0.0663 - accuracy: 0.9849\n",
      "Epoch 123/150\n",
      "398/398 [==============================] - 0s 20us/step - loss: 0.0515 - accuracy: 0.9849\n",
      "Epoch 124/150\n",
      "398/398 [==============================] - 0s 18us/step - loss: 0.0553 - accuracy: 0.9824\n",
      "Epoch 125/150\n",
      "398/398 [==============================] - 0s 20us/step - loss: 0.0520 - accuracy: 0.9824\n",
      "Epoch 126/150\n",
      "398/398 [==============================] - 0s 18us/step - loss: 0.0602 - accuracy: 0.9849\n",
      "Epoch 127/150\n",
      "398/398 [==============================] - 0s 20us/step - loss: 0.0597 - accuracy: 0.9824\n",
      "Epoch 128/150\n",
      "398/398 [==============================] - 0s 23us/step - loss: 0.0558 - accuracy: 0.9874\n",
      "Epoch 129/150\n",
      "398/398 [==============================] - 0s 20us/step - loss: 0.0653 - accuracy: 0.9799\n",
      "Epoch 130/150\n",
      "398/398 [==============================] - 0s 20us/step - loss: 0.0533 - accuracy: 0.9849\n",
      "Epoch 131/150\n",
      "398/398 [==============================] - 0s 20us/step - loss: 0.0657 - accuracy: 0.9799\n",
      "Epoch 132/150\n",
      "398/398 [==============================] - 0s 18us/step - loss: 0.0570 - accuracy: 0.9899\n",
      "Epoch 133/150\n",
      "398/398 [==============================] - 0s 20us/step - loss: 0.0591 - accuracy: 0.9874\n",
      "Epoch 134/150\n",
      "398/398 [==============================] - 0s 18us/step - loss: 0.0696 - accuracy: 0.9824\n",
      "Epoch 135/150\n",
      "398/398 [==============================] - 0s 20us/step - loss: 0.0447 - accuracy: 0.9899\n",
      "Epoch 136/150\n",
      "398/398 [==============================] - 0s 20us/step - loss: 0.0699 - accuracy: 0.9799\n",
      "Epoch 137/150\n",
      "398/398 [==============================] - 0s 20us/step - loss: 0.0615 - accuracy: 0.9724\n",
      "Epoch 138/150\n",
      "398/398 [==============================] - 0s 18us/step - loss: 0.0589 - accuracy: 0.9824\n",
      "Epoch 139/150\n",
      "398/398 [==============================] - 0s 23us/step - loss: 0.0511 - accuracy: 0.9874\n",
      "Epoch 140/150\n",
      "398/398 [==============================] - 0s 20us/step - loss: 0.0572 - accuracy: 0.9799\n",
      "Epoch 141/150\n",
      "398/398 [==============================] - 0s 20us/step - loss: 0.0575 - accuracy: 0.9799\n",
      "Epoch 142/150\n",
      "398/398 [==============================] - 0s 18us/step - loss: 0.0670 - accuracy: 0.9774\n",
      "Epoch 143/150\n",
      "398/398 [==============================] - 0s 18us/step - loss: 0.0705 - accuracy: 0.9799\n",
      "Epoch 144/150\n",
      "398/398 [==============================] - 0s 23us/step - loss: 0.0658 - accuracy: 0.9799\n",
      "Epoch 145/150\n",
      "398/398 [==============================] - 0s 18us/step - loss: 0.0615 - accuracy: 0.9774\n",
      "Epoch 146/150\n",
      "398/398 [==============================] - 0s 23us/step - loss: 0.0516 - accuracy: 0.9849\n",
      "Epoch 147/150\n",
      "398/398 [==============================] - 0s 20us/step - loss: 0.0655 - accuracy: 0.9749\n",
      "Epoch 148/150\n",
      "398/398 [==============================] - 0s 20us/step - loss: 0.0636 - accuracy: 0.9749\n",
      "Epoch 149/150\n",
      "398/398 [==============================] - 0s 20us/step - loss: 0.0522 - accuracy: 0.9849\n",
      "Epoch 150/150\n",
      "398/398 [==============================] - 0s 20us/step - loss: 0.0589 - accuracy: 0.9799\n"
     ]
    },
    {
     "data": {
      "text/plain": [
       "<keras.callbacks.callbacks.History at 0x23550d34348>"
      ]
     },
     "execution_count": 29,
     "metadata": {},
     "output_type": "execute_result"
    }
   ],
   "source": [
    "# Fitting the ANN to the Training set\n",
    "classifier.fit(X_train, y_train, batch_size=100, nb_epoch=150)\n",
    "# Long scroll ahead but worth\n",
    "# The batch size and number of epochs have been set using trial and error. Still looking for more efficient ways. Open to suggestions. "
   ]
  },
  {
   "cell_type": "markdown",
   "metadata": {},
   "source": [
    "Batch size defines number of samples that going to be propagated through the network.\n",
    "\n",
    "An Epoch is a complete pass through all the training data."
   ]
  },
  {
   "cell_type": "code",
   "execution_count": 30,
   "metadata": {},
   "outputs": [],
   "source": [
    "# Predicting the Test set results\n",
    "y_pred = classifier.predict(X_test)\n",
    "y_pred = (y_pred > 0.5)"
   ]
  },
  {
   "cell_type": "code",
   "execution_count": 31,
   "metadata": {},
   "outputs": [],
   "source": [
    "# Making the Confusion Matrix\n",
    "from sklearn.metrics import confusion_matrix\n",
    "cm = confusion_matrix(y_test, y_pred)"
   ]
  },
  {
   "cell_type": "code",
   "execution_count": 32,
   "metadata": {},
   "outputs": [
    {
     "name": "stdout",
     "output_type": "stream",
     "text": [
      "Our accuracy is 97.07602339181285%\n"
     ]
    }
   ],
   "source": [
    "print(\"Our accuracy is {}%\".format(((cm[0][0] + cm[1][1])/171)*100))"
   ]
  },
  {
   "cell_type": "code",
   "execution_count": 34,
   "metadata": {},
   "outputs": [
    {
     "data": {
      "image/png": "[encoded data removed]",
      "text/plain": [
       "<Figure size 432x288 with 2 Axes>"
      ]
     },
     "metadata": {
      "needs_background": "light"
     },
     "output_type": "display_data"
    }
   ],
   "source": [
    "sns.heatmap(cm,annot=True)\n",
    "plt.savefig('matrix.png')"
   ]
  },
  {
   "cell_type": "code",
   "execution_count": null,
   "metadata": {},
   "outputs": [],
   "source": []
  }
 ],
 "metadata": {
  "kernelspec": {
   "display_name": "Python 3",
   "language": "python",
   "name": "python3"
  },
  "language_info": {
   "codemirror_mode": {
    "name": "ipython",
    "version": 3
   },
   "file_extension": ".py",
   "mimetype": "text/x-python",
   "name": "python",
   "nbconvert_exporter": "python",
   "pygments_lexer": "ipython3",
   "version": "3.7.9"
  }
 },
 "nbformat": 4,
 "nbformat_minor": 4
}
